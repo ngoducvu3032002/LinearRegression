{
  "nbformat": 4,
  "nbformat_minor": 0,
  "metadata": {
    "colab": {
      "name": "20520950_Linear_Regression.ipynb",
      "provenance": [],
      "collapsed_sections": []
    },
    "kernelspec": {
      "name": "python3",
      "display_name": "Python 3"
    },
    "language_info": {
      "name": "python"
    }
  },
  "cells": [
    {
      "cell_type": "markdown",
      "source": [
        "# **20520950 Ngô Đức Vũ**"
      ],
      "metadata": {
        "id": "rlEj2DmkuIDT"
      }
    },
    {
      "cell_type": "code",
      "execution_count": 105,
      "metadata": {
        "colab": {
          "base_uri": "https://localhost:8080/",
          "height": 364
        },
        "id": "rU5PyqiCL3hk",
        "outputId": "c0ac207f-cfe2-427a-f275-089407488c24"
      },
      "outputs": [
        {
          "output_type": "execute_result",
          "data": {
            "text/plain": [
              "          longitude      latitude  housing_median_age   total_rooms  \\\n",
              "count  20640.000000  20640.000000        20640.000000  20640.000000   \n",
              "mean    -119.569704     35.631861           28.639486   2635.763081   \n",
              "std        2.003532      2.135952           12.585558   2181.615252   \n",
              "min     -124.350000     32.540000            1.000000      2.000000   \n",
              "25%     -121.800000     33.930000           18.000000   1447.750000   \n",
              "50%     -118.490000     34.260000           29.000000   2127.000000   \n",
              "75%     -118.010000     37.710000           37.000000   3148.000000   \n",
              "max     -114.310000     41.950000           52.000000  39320.000000   \n",
              "\n",
              "       total_bedrooms    population    households  median_income  \\\n",
              "count    20433.000000  20640.000000  20640.000000   20640.000000   \n",
              "mean       537.870553   1425.476744    499.539680       3.870671   \n",
              "std        421.385070   1132.462122    382.329753       1.899822   \n",
              "min          1.000000      3.000000      1.000000       0.499900   \n",
              "25%        296.000000    787.000000    280.000000       2.563400   \n",
              "50%        435.000000   1166.000000    409.000000       3.534800   \n",
              "75%        647.000000   1725.000000    605.000000       4.743250   \n",
              "max       6445.000000  35682.000000   6082.000000      15.000100   \n",
              "\n",
              "       median_house_value  \n",
              "count        20640.000000  \n",
              "mean        206855.816909  \n",
              "std         115395.615874  \n",
              "min          14999.000000  \n",
              "25%         119600.000000  \n",
              "50%         179700.000000  \n",
              "75%         264725.000000  \n",
              "max         500001.000000  "
            ],
            "text/html": [
              "\n",
              "  <div id=\"df-0072c5a4-cd04-4032-b8c0-96497d784bc5\">\n",
              "    <div class=\"colab-df-container\">\n",
              "      <div>\n",
              "<style scoped>\n",
              "    .dataframe tbody tr th:only-of-type {\n",
              "        vertical-align: middle;\n",
              "    }\n",
              "\n",
              "    .dataframe tbody tr th {\n",
              "        vertical-align: top;\n",
              "    }\n",
              "\n",
              "    .dataframe thead th {\n",
              "        text-align: right;\n",
              "    }\n",
              "</style>\n",
              "<table border=\"1\" class=\"dataframe\">\n",
              "  <thead>\n",
              "    <tr style=\"text-align: right;\">\n",
              "      <th></th>\n",
              "      <th>longitude</th>\n",
              "      <th>latitude</th>\n",
              "      <th>housing_median_age</th>\n",
              "      <th>total_rooms</th>\n",
              "      <th>total_bedrooms</th>\n",
              "      <th>population</th>\n",
              "      <th>households</th>\n",
              "      <th>median_income</th>\n",
              "      <th>median_house_value</th>\n",
              "    </tr>\n",
              "  </thead>\n",
              "  <tbody>\n",
              "    <tr>\n",
              "      <th>count</th>\n",
              "      <td>20640.000000</td>\n",
              "      <td>20640.000000</td>\n",
              "      <td>20640.000000</td>\n",
              "      <td>20640.000000</td>\n",
              "      <td>20433.000000</td>\n",
              "      <td>20640.000000</td>\n",
              "      <td>20640.000000</td>\n",
              "      <td>20640.000000</td>\n",
              "      <td>20640.000000</td>\n",
              "    </tr>\n",
              "    <tr>\n",
              "      <th>mean</th>\n",
              "      <td>-119.569704</td>\n",
              "      <td>35.631861</td>\n",
              "      <td>28.639486</td>\n",
              "      <td>2635.763081</td>\n",
              "      <td>537.870553</td>\n",
              "      <td>1425.476744</td>\n",
              "      <td>499.539680</td>\n",
              "      <td>3.870671</td>\n",
              "      <td>206855.816909</td>\n",
              "    </tr>\n",
              "    <tr>\n",
              "      <th>std</th>\n",
              "      <td>2.003532</td>\n",
              "      <td>2.135952</td>\n",
              "      <td>12.585558</td>\n",
              "      <td>2181.615252</td>\n",
              "      <td>421.385070</td>\n",
              "      <td>1132.462122</td>\n",
              "      <td>382.329753</td>\n",
              "      <td>1.899822</td>\n",
              "      <td>115395.615874</td>\n",
              "    </tr>\n",
              "    <tr>\n",
              "      <th>min</th>\n",
              "      <td>-124.350000</td>\n",
              "      <td>32.540000</td>\n",
              "      <td>1.000000</td>\n",
              "      <td>2.000000</td>\n",
              "      <td>1.000000</td>\n",
              "      <td>3.000000</td>\n",
              "      <td>1.000000</td>\n",
              "      <td>0.499900</td>\n",
              "      <td>14999.000000</td>\n",
              "    </tr>\n",
              "    <tr>\n",
              "      <th>25%</th>\n",
              "      <td>-121.800000</td>\n",
              "      <td>33.930000</td>\n",
              "      <td>18.000000</td>\n",
              "      <td>1447.750000</td>\n",
              "      <td>296.000000</td>\n",
              "      <td>787.000000</td>\n",
              "      <td>280.000000</td>\n",
              "      <td>2.563400</td>\n",
              "      <td>119600.000000</td>\n",
              "    </tr>\n",
              "    <tr>\n",
              "      <th>50%</th>\n",
              "      <td>-118.490000</td>\n",
              "      <td>34.260000</td>\n",
              "      <td>29.000000</td>\n",
              "      <td>2127.000000</td>\n",
              "      <td>435.000000</td>\n",
              "      <td>1166.000000</td>\n",
              "      <td>409.000000</td>\n",
              "      <td>3.534800</td>\n",
              "      <td>179700.000000</td>\n",
              "    </tr>\n",
              "    <tr>\n",
              "      <th>75%</th>\n",
              "      <td>-118.010000</td>\n",
              "      <td>37.710000</td>\n",
              "      <td>37.000000</td>\n",
              "      <td>3148.000000</td>\n",
              "      <td>647.000000</td>\n",
              "      <td>1725.000000</td>\n",
              "      <td>605.000000</td>\n",
              "      <td>4.743250</td>\n",
              "      <td>264725.000000</td>\n",
              "    </tr>\n",
              "    <tr>\n",
              "      <th>max</th>\n",
              "      <td>-114.310000</td>\n",
              "      <td>41.950000</td>\n",
              "      <td>52.000000</td>\n",
              "      <td>39320.000000</td>\n",
              "      <td>6445.000000</td>\n",
              "      <td>35682.000000</td>\n",
              "      <td>6082.000000</td>\n",
              "      <td>15.000100</td>\n",
              "      <td>500001.000000</td>\n",
              "    </tr>\n",
              "  </tbody>\n",
              "</table>\n",
              "</div>\n",
              "      <button class=\"colab-df-convert\" onclick=\"convertToInteractive('df-0072c5a4-cd04-4032-b8c0-96497d784bc5')\"\n",
              "              title=\"Convert this dataframe to an interactive table.\"\n",
              "              style=\"display:none;\">\n",
              "        \n",
              "  <svg xmlns=\"http://www.w3.org/2000/svg\" height=\"24px\"viewBox=\"0 0 24 24\"\n",
              "       width=\"24px\">\n",
              "    <path d=\"M0 0h24v24H0V0z\" fill=\"none\"/>\n",
              "    <path d=\"M18.56 5.44l.94 2.06.94-2.06 2.06-.94-2.06-.94-.94-2.06-.94 2.06-2.06.94zm-11 1L8.5 8.5l.94-2.06 2.06-.94-2.06-.94L8.5 2.5l-.94 2.06-2.06.94zm10 10l.94 2.06.94-2.06 2.06-.94-2.06-.94-.94-2.06-.94 2.06-2.06.94z\"/><path d=\"M17.41 7.96l-1.37-1.37c-.4-.4-.92-.59-1.43-.59-.52 0-1.04.2-1.43.59L10.3 9.45l-7.72 7.72c-.78.78-.78 2.05 0 2.83L4 21.41c.39.39.9.59 1.41.59.51 0 1.02-.2 1.41-.59l7.78-7.78 2.81-2.81c.8-.78.8-2.07 0-2.86zM5.41 20L4 18.59l7.72-7.72 1.47 1.35L5.41 20z\"/>\n",
              "  </svg>\n",
              "      </button>\n",
              "      \n",
              "  <style>\n",
              "    .colab-df-container {\n",
              "      display:flex;\n",
              "      flex-wrap:wrap;\n",
              "      gap: 12px;\n",
              "    }\n",
              "\n",
              "    .colab-df-convert {\n",
              "      background-color: #E8F0FE;\n",
              "      border: none;\n",
              "      border-radius: 50%;\n",
              "      cursor: pointer;\n",
              "      display: none;\n",
              "      fill: #1967D2;\n",
              "      height: 32px;\n",
              "      padding: 0 0 0 0;\n",
              "      width: 32px;\n",
              "    }\n",
              "\n",
              "    .colab-df-convert:hover {\n",
              "      background-color: #E2EBFA;\n",
              "      box-shadow: 0px 1px 2px rgba(60, 64, 67, 0.3), 0px 1px 3px 1px rgba(60, 64, 67, 0.15);\n",
              "      fill: #174EA6;\n",
              "    }\n",
              "\n",
              "    [theme=dark] .colab-df-convert {\n",
              "      background-color: #3B4455;\n",
              "      fill: #D2E3FC;\n",
              "    }\n",
              "\n",
              "    [theme=dark] .colab-df-convert:hover {\n",
              "      background-color: #434B5C;\n",
              "      box-shadow: 0px 1px 3px 1px rgba(0, 0, 0, 0.15);\n",
              "      filter: drop-shadow(0px 1px 2px rgba(0, 0, 0, 0.3));\n",
              "      fill: #FFFFFF;\n",
              "    }\n",
              "  </style>\n",
              "\n",
              "      <script>\n",
              "        const buttonEl =\n",
              "          document.querySelector('#df-0072c5a4-cd04-4032-b8c0-96497d784bc5 button.colab-df-convert');\n",
              "        buttonEl.style.display =\n",
              "          google.colab.kernel.accessAllowed ? 'block' : 'none';\n",
              "\n",
              "        async function convertToInteractive(key) {\n",
              "          const element = document.querySelector('#df-0072c5a4-cd04-4032-b8c0-96497d784bc5');\n",
              "          const dataTable =\n",
              "            await google.colab.kernel.invokeFunction('convertToInteractive',\n",
              "                                                     [key], {});\n",
              "          if (!dataTable) return;\n",
              "\n",
              "          const docLinkHtml = 'Like what you see? Visit the ' +\n",
              "            '<a target=\"_blank\" href=https://colab.research.google.com/notebooks/data_table.ipynb>data table notebook</a>'\n",
              "            + ' to learn more about interactive tables.';\n",
              "          element.innerHTML = '';\n",
              "          dataTable['output_type'] = 'display_data';\n",
              "          await google.colab.output.renderOutput(dataTable, element);\n",
              "          const docLink = document.createElement('div');\n",
              "          docLink.innerHTML = docLinkHtml;\n",
              "          element.appendChild(docLink);\n",
              "        }\n",
              "      </script>\n",
              "    </div>\n",
              "  </div>\n",
              "  "
            ]
          },
          "metadata": {},
          "execution_count": 105
        }
      ],
      "source": [
        "import pandas as pd\n",
        "data = pd.read_csv('https://raw.githubusercontent.com/ageron/handson-ml/master/datasets/housing/housing.csv')\n",
        "#Mô tả sơ lược về dữ liệu: \n",
        "data.describe()"
      ]
    },
    {
      "cell_type": "code",
      "source": [
        "import matplotlib.pyplot as plt\n",
        "import seaborn as sns\n",
        "import statistics\n",
        "sns.histplot(data['median_house_value'])\n"
      ],
      "metadata": {
        "colab": {
          "base_uri": "https://localhost:8080/",
          "height": 297
        },
        "id": "IThGKBIaMAHE",
        "outputId": "f6370db2-506b-45aa-9d69-8cfb340cd7c1"
      },
      "execution_count": 106,
      "outputs": [
        {
          "output_type": "execute_result",
          "data": {
            "text/plain": [
              "<matplotlib.axes._subplots.AxesSubplot at 0x7fc3547a4d10>"
            ]
          },
          "metadata": {},
          "execution_count": 106
        },
        {
          "output_type": "display_data",
          "data": {
            "text/plain": [
              "<Figure size 432x288 with 1 Axes>"
            ],
            "image/png": "[encoded data removed]"
          },
          "metadata": {
            "needs_background": "light"
          }
        }
      ]
    },
    {
      "cell_type": "markdown",
      "source": [
        "# **Câu hỏi 1: Dựa vào kết quả thu được, hãy cho biết khoảng min - max của biến mục tiêu(median_house_value) trong bộ dữ liệu. Có nhận xét gì về miền giá trị của biến mục tiêu? (giá trị min-max, mean, median như thế nào?)**"
      ],
      "metadata": {
        "id": "5w2zCeXtYUtu"
      }
    },
    {
      "cell_type": "code",
      "source": [
        "print ('Minimum:', min(data['median_house_value']))\n",
        "print( 'Maximum:', max(data['median_house_value']))"
      ],
      "metadata": {
        "colab": {
          "base_uri": "https://localhost:8080/"
        },
        "id": "ryGmP8s7TrkC",
        "outputId": "3756e8d0-05b4-41ea-be30-89e9c44131f8"
      },
      "execution_count": 107,
      "outputs": [
        {
          "output_type": "stream",
          "name": "stdout",
          "text": [
            "Minimum: 14999.0\n",
            "Maximum: 500001.0\n"
          ]
        }
      ]
    },
    {
      "cell_type": "code",
      "source": [
        "print(\"median :\")\n",
        "statistics.median(data['median_house_value'])"
      ],
      "metadata": {
        "colab": {
          "base_uri": "https://localhost:8080/"
        },
        "id": "koPTrafXObUS",
        "outputId": "8dc46f0e-c687-4608-c631-77810835a570"
      },
      "execution_count": 108,
      "outputs": [
        {
          "output_type": "stream",
          "name": "stdout",
          "text": [
            "median :\n"
          ]
        },
        {
          "output_type": "execute_result",
          "data": {
            "text/plain": [
              "179700.0"
            ]
          },
          "metadata": {},
          "execution_count": 108
        }
      ]
    },
    {
      "cell_type": "code",
      "source": [
        "print(\"mean :\")\n",
        "statistics.mean(data['median_house_value'])"
      ],
      "metadata": {
        "colab": {
          "base_uri": "https://localhost:8080/"
        },
        "id": "uCPzduMCS_aB",
        "outputId": "64a45c50-ff35-4f7c-c651-dc01850ee838"
      },
      "execution_count": 109,
      "outputs": [
        {
          "output_type": "stream",
          "name": "stdout",
          "text": [
            "mean :\n"
          ]
        },
        {
          "output_type": "execute_result",
          "data": {
            "text/plain": [
              "206855.81690891474"
            ]
          },
          "metadata": {},
          "execution_count": 109
        }
      ]
    },
    {
      "cell_type": "markdown",
      "source": [
        "# **Câu hỏi 2:Hãy cho biết bộ dữ liệu có bao nhiêu dòng, và có tổng cộng bao nhiêu thuộctính? Liệt kê ra các thuộc tính. Sử dụng: data.columns.**"
      ],
      "metadata": {
        "id": "UILl7ASqYrCC"
      }
    },
    {
      "cell_type": "code",
      "source": [
        "print('Row count is:', len(data))"
      ],
      "metadata": {
        "colab": {
          "base_uri": "https://localhost:8080/"
        },
        "id": "ZXUUUisFUsm2",
        "outputId": "910a45c4-8efe-4e3f-fe95-8716a9eaa791"
      },
      "execution_count": 110,
      "outputs": [
        {
          "output_type": "stream",
          "name": "stdout",
          "text": [
            "Row count is: 20640\n"
          ]
        }
      ]
    },
    {
      "cell_type": "code",
      "source": [
        "col= data.columns\n",
        "print('Columns are:', col)"
      ],
      "metadata": {
        "colab": {
          "base_uri": "https://localhost:8080/"
        },
        "id": "mZkgpaT6UwtL",
        "outputId": "b35afa11-3d98-4c1e-ebfa-5d7bfc10b052"
      },
      "execution_count": 111,
      "outputs": [
        {
          "output_type": "stream",
          "name": "stdout",
          "text": [
            "Columns are: Index(['longitude', 'latitude', 'housing_median_age', 'total_rooms',\n",
            "       'total_bedrooms', 'population', 'households', 'median_income',\n",
            "       'median_house_value', 'ocean_proximity'],\n",
            "      dtype='object')\n"
          ]
        }
      ]
    },
    {
      "cell_type": "code",
      "source": [
        "ncol = len(col)\n",
        "print('Col count is:', ncol)"
      ],
      "metadata": {
        "colab": {
          "base_uri": "https://localhost:8080/"
        },
        "id": "BJ1KX357I34b",
        "outputId": "989aa4e1-b0ec-4ed8-b4b2-d1574ac28a09"
      },
      "execution_count": 112,
      "outputs": [
        {
          "output_type": "stream",
          "name": "stdout",
          "text": [
            "Col count is: 10\n"
          ]
        }
      ]
    },
    {
      "cell_type": "markdown",
      "source": [
        "#**Câu hỏi 3: Cho biết số lượng các giá trị NA trong thuộc tính.**"
      ],
      "metadata": {
        "id": "66eRDDH-ZAtV"
      }
    },
    {
      "cell_type": "code",
      "source": [
        "data.isnull().sum()"
      ],
      "metadata": {
        "colab": {
          "base_uri": "https://localhost:8080/"
        },
        "id": "mKTaiBmKI55g",
        "outputId": "59b0e0b1-df9f-4372-9ea5-97fb9ceffee5"
      },
      "execution_count": 113,
      "outputs": [
        {
          "output_type": "execute_result",
          "data": {
            "text/plain": [
              "longitude               0\n",
              "latitude                0\n",
              "housing_median_age      0\n",
              "total_rooms             0\n",
              "total_bedrooms        207\n",
              "population              0\n",
              "households              0\n",
              "median_income           0\n",
              "median_house_value      0\n",
              "ocean_proximity         0\n",
              "dtype: int64"
            ]
          },
          "metadata": {},
          "execution_count": 113
        }
      ]
    },
    {
      "cell_type": "markdown",
      "source": [
        "## **2. Chuẩn bị dữ liệu huấn luyện.**\n"
      ],
      "metadata": {
        "id": "f-Uw3hL0KvVn"
      }
    },
    {
      "cell_type": "markdown",
      "source": [
        "#**Câu hỏi 4:Vẽ Ma trận tương quan giữa các thuộc tính và thể hiện lên màn hình theo code gợi ý. Cho biết mức độ tương quan giữa các thuộc tính với nhau**"
      ],
      "metadata": {
        "id": "XM-qk612WwXk"
      }
    },
    {
      "cell_type": "code",
      "source": [
        "# tinh su phu thuoc cua tung thuoc tinh dùng person\n",
        "correlation = data.corr(method='pearson')\n",
        "print(correlation)\n",
        "fig = plt.subplots(figsize=(10,10))\n",
        "sns.heatmap(correlation,vmax=1,square=True,annot=True,cmap='Reds')\n"
      ],
      "metadata": {
        "colab": {
          "base_uri": "https://localhost:8080/",
          "height": 1000
        },
        "id": "12T64AelK0Qh",
        "outputId": "adc83747-2292-4692-ef05-6c89637944ed"
      },
      "execution_count": 150,
      "outputs": [
        {
          "output_type": "stream",
          "name": "stdout",
          "text": [
            "                    longitude  latitude  housing_median_age  total_rooms  \\\n",
            "longitude            1.000000 -0.924664           -0.108197     0.044568   \n",
            "latitude            -0.924664  1.000000            0.011173    -0.036100   \n",
            "housing_median_age  -0.108197  0.011173            1.000000    -0.361262   \n",
            "total_rooms          0.044568 -0.036100           -0.361262     1.000000   \n",
            "total_bedrooms       0.069608 -0.066983           -0.320451     0.930380   \n",
            "population           0.099773 -0.108785           -0.296244     0.857126   \n",
            "households           0.055310 -0.071035           -0.302916     0.918484   \n",
            "median_income       -0.015176 -0.079809           -0.119034     0.198050   \n",
            "median_house_value  -0.045967 -0.144160            0.105623     0.134153   \n",
            "\n",
            "                    total_bedrooms  population  households  median_income  \\\n",
            "longitude                 0.069608    0.099773    0.055310      -0.015176   \n",
            "latitude                 -0.066983   -0.108785   -0.071035      -0.079809   \n",
            "housing_median_age       -0.320451   -0.296244   -0.302916      -0.119034   \n",
            "total_rooms               0.930380    0.857126    0.918484       0.198050   \n",
            "total_bedrooms            1.000000    0.877747    0.979728      -0.007723   \n",
            "population                0.877747    1.000000    0.907222       0.004834   \n",
            "households                0.979728    0.907222    1.000000       0.013033   \n",
            "median_income            -0.007723    0.004834    0.013033       1.000000   \n",
            "median_house_value        0.049686   -0.024650    0.065843       0.688075   \n",
            "\n",
            "                    median_house_value  \n",
            "longitude                    -0.045967  \n",
            "latitude                     -0.144160  \n",
            "housing_median_age            0.105623  \n",
            "total_rooms                   0.134153  \n",
            "total_bedrooms                0.049686  \n",
            "population                   -0.024650  \n",
            "households                    0.065843  \n",
            "median_income                 0.688075  \n",
            "median_house_value            1.000000  \n"
          ]
        },
        {
          "output_type": "execute_result",
          "data": {
            "text/plain": [
              "<matplotlib.axes._subplots.AxesSubplot at 0x7fc353a7a390>"
            ]
          },
          "metadata": {},
          "execution_count": 150
        },
        {
          "output_type": "display_data",
          "data": {
            "text/plain": [
              "<Figure size 720x720 with 2 Axes>"
            ],
            "image/png": "[encoded data removed]"
          },
          "metadata": {
            "needs_background": "light"
          }
        }
      ]
    },
    {
      "cell_type": "code",
      "source": [
        "# tinh su phu thuoc cua tung thuoc tinh dung kendall\n",
        "correlation = data.corr(method='kendall')\n",
        "fig = plt.subplots(figsize=(10,10))\n",
        "sns.heatmap(correlation,vmax=1,square=True,annot=True,cmap='Reds')"
      ],
      "metadata": {
        "id": "fLRQ3j15SK4u"
      },
      "execution_count": null,
      "outputs": []
    },
    {
      "cell_type": "code",
      "source": [
        "# tinh su phu thuoc cua tung thuoc tinh dung kendall\n",
        "correlation = data.corr(method='spearman')\n",
        "fig = plt.subplots(figsize=(10,10))\n",
        "sns.heatmap(correlation,vmax=1,square=True,annot=True,cmap='Reds')"
      ],
      "metadata": {
        "id": "P2eBpDmzUKE0"
      },
      "execution_count": null,
      "outputs": []
    },
    {
      "cell_type": "markdown",
      "source": [
        "**Kết luận:**\n",
        "Ở ba độ đo, kết quả đều cho ra là **median_income** sẽ tương quan nhất với **median_house_value**"
      ],
      "metadata": {
        "id": "-OtQ4iicUS81"
      }
    },
    {
      "cell_type": "markdown",
      "source": [
        "# **Câu hỏi 5: Vẽ biểu đồ tán xạ (scatter plot) giữa thuộc tính median_income và thuộc tính median_house_value.**"
      ],
      "metadata": {
        "id": "XFG7orpAZkn-"
      }
    },
    {
      "cell_type": "code",
      "source": [
        "# Ve bieu do tan xa du lieu huan luyen\n",
        "sns.scatterplot(data=data,x=data[\"median_income\"], y=data[\"median_house_value\"],)"
      ],
      "metadata": {
        "colab": {
          "base_uri": "https://localhost:8080/",
          "height": 297
        },
        "id": "PMuhZmpmXHLr",
        "outputId": "91d53327-d724-4d0f-e6f7-d9fc199a6691"
      },
      "execution_count": 117,
      "outputs": [
        {
          "output_type": "execute_result",
          "data": {
            "text/plain": [
              "<matplotlib.axes._subplots.AxesSubplot at 0x7fc354280bd0>"
            ]
          },
          "metadata": {},
          "execution_count": 117
        },
        {
          "output_type": "display_data",
          "data": {
            "text/plain": [
              "<Figure size 432x288 with 1 Axes>"
            ],
            "image/png": "[encoded data removed]"
          },
          "metadata": {
            "needs_background": "light"
          }
        }
      ]
    },
    {
      "cell_type": "markdown",
      "source": [
        "#**Câu hỏi 6: Hãy phân chia dữ liệu huấn luyện (X,y) thành tập huấn luyện và tập kiểm thử theo tỉ lệ lần lượt là 8-2. Cho biết chiều (shape) của từng tập dữ liệu**"
      ],
      "metadata": {
        "id": "b6JND4c7gDoc"
      }
    },
    {
      "cell_type": "code",
      "source": [
        "X = data.drop(labels = \"median_house_value\", axis=1).values\n",
        "y = data['median_house_value'].values"
      ],
      "metadata": {
        "id": "9TaBcBjwUHMu"
      },
      "execution_count": 118,
      "outputs": []
    },
    {
      "cell_type": "code",
      "source": [
        "from sklearn.impute import SimpleImputer\n",
        "import numpy as np\n",
        "imputer = SimpleImputer(missing_values= np.nan, strategy='mean')\n",
        "#imputer.fit(X[:, :-1])\n",
        "X[:, :-1] = imputer.fit_transform(X[:, :-1])"
      ],
      "metadata": {
        "id": "VTtA0tksaesZ"
      },
      "execution_count": 119,
      "outputs": []
    },
    {
      "cell_type": "code",
      "source": [
        "from sklearn.compose import ColumnTransformer\n",
        "from sklearn.preprocessing import LabelEncoder\n",
        "encoder = LabelEncoder()\n",
        "X[:,-1] = encoder.fit_transform(X[:,-1])"
      ],
      "metadata": {
        "id": "iAkumqbmbVx1"
      },
      "execution_count": 120,
      "outputs": []
    },
    {
      "cell_type": "code",
      "source": [
        "X.shape"
      ],
      "metadata": {
        "colab": {
          "base_uri": "https://localhost:8080/"
        },
        "id": "Smam2z0Vb48k",
        "outputId": "b0560c17-e359-414b-99ab-56512f6a0933"
      },
      "execution_count": 121,
      "outputs": [
        {
          "output_type": "execute_result",
          "data": {
            "text/plain": [
              "(20640, 9)"
            ]
          },
          "metadata": {},
          "execution_count": 121
        }
      ]
    },
    {
      "cell_type": "code",
      "source": [
        "#Cắt dataframe sang tập train và test\n",
        "from sklearn.model_selection import train_test_split\n",
        "X_train, X_test, y_train, y_test = train_test_split(X, y, test_size=0.2, random_state=42)"
      ],
      "metadata": {
        "id": "k9_bCpo1YO6o"
      },
      "execution_count": 122,
      "outputs": []
    },
    {
      "cell_type": "code",
      "source": [
        "print(X_train.shape)"
      ],
      "metadata": {
        "colab": {
          "base_uri": "https://localhost:8080/"
        },
        "id": "m1LZtDhKdBRs",
        "outputId": "533ab238-c2ce-489c-a12a-b09c304d652d"
      },
      "execution_count": 123,
      "outputs": [
        {
          "output_type": "stream",
          "name": "stdout",
          "text": [
            "(16512, 9)\n"
          ]
        }
      ]
    },
    {
      "cell_type": "code",
      "source": [
        "print(X_test.shape)"
      ],
      "metadata": {
        "colab": {
          "base_uri": "https://localhost:8080/"
        },
        "id": "nWwGMbGDR1lR",
        "outputId": "f71f06b1-4f48-4302-fb11-14812bbec1a6"
      },
      "execution_count": 124,
      "outputs": [
        {
          "output_type": "stream",
          "name": "stdout",
          "text": [
            "(4128, 9)\n"
          ]
        }
      ]
    },
    {
      "cell_type": "code",
      "source": [
        "print(y_train.shape)"
      ],
      "metadata": {
        "colab": {
          "base_uri": "https://localhost:8080/"
        },
        "id": "GjX9iStqduDG",
        "outputId": "1ba86829-05be-4f48-b01f-31b27a9b7281"
      },
      "execution_count": 125,
      "outputs": [
        {
          "output_type": "stream",
          "name": "stdout",
          "text": [
            "(16512,)\n"
          ]
        }
      ]
    },
    {
      "cell_type": "code",
      "source": [
        "print(y_test.shape)"
      ],
      "metadata": {
        "colab": {
          "base_uri": "https://localhost:8080/"
        },
        "id": "0NUQWOuLR5B5",
        "outputId": "2d4866bf-e94b-4f34-81f1-860103578dbd"
      },
      "execution_count": 126,
      "outputs": [
        {
          "output_type": "stream",
          "name": "stdout",
          "text": [
            "(4128,)\n"
          ]
        }
      ]
    },
    {
      "cell_type": "markdown",
      "source": [
        "# **3. Huấn luyện mô hình và kiểm thử**"
      ],
      "metadata": {
        "id": "BwcqvTj2REG4"
      }
    },
    {
      "cell_type": "code",
      "source": [
        "#Chuẩn hóa dữ liệu\n",
        "from sklearn.preprocessing import StandardScaler\n",
        "sc = StandardScaler()\n",
        "X_train[:, :] = sc.fit_transform(X_train[:, :])\n",
        "X_test[:, :] = sc.fit_transform(X_test[:, :])\n",
        "y_train = sc.fit_transform(y_train.reshape(-1,1)).reshape(-1)\n",
        "y_test = sc.fit_transform(y_test.reshape(-1,1)).reshape(-1)"
      ],
      "metadata": {
        "id": "WaIMvHKyc2i_"
      },
      "execution_count": 127,
      "outputs": []
    },
    {
      "cell_type": "code",
      "source": [
        "X_train"
      ],
      "metadata": {
        "colab": {
          "base_uri": "https://localhost:8080/"
        },
        "id": "FN8mdLy7dIZM",
        "outputId": "2ac0e8d0-7a43-4f4d-c82d-9122e668ed94"
      },
      "execution_count": 128,
      "outputs": [
        {
          "output_type": "execute_result",
          "data": {
            "text/plain": [
              "array([[1.2725865624711816, -1.3728111990668923, 0.34849024666633743,\n",
              "        ..., 0.32290590860844803, -0.3261960037692997,\n",
              "        2.0059317206135328],\n",
              "       [0.7091621244196555, -0.8766960138235843, 1.6181181253037833, ...,\n",
              "        0.6720272000823109, -0.035843376698674385, 2.0059317206135328],\n",
              "       [-0.4476030935268487, -0.46014647149665977, -1.952710283364033,\n",
              "        ..., -0.43046108878251915, 0.14470144729640774,\n",
              "        2.0059317206135328],\n",
              "       ...,\n",
              "       [0.5994688709936948, -0.7550073834808873, 0.5865454739108585, ...,\n",
              "        0.07090858543934404, -0.49697313222538075, -0.8185460392748126],\n",
              "       [-1.1855395256651284, 0.9065104538905641, -1.079841116800789, ...,\n",
              "        0.1549076931623787, 0.9654504450332139, -0.8185460392748126],\n",
              "       [-1.4148981464648696, 0.995436760679461, 1.8561733525483044, ...,\n",
              "        1.9477636486258998, -0.6854476445343832, 1.2998122806414465]],\n",
              "      dtype=object)"
            ]
          },
          "metadata": {},
          "execution_count": 128
        }
      ]
    },
    {
      "cell_type": "code",
      "source": [
        "#Huấn luyện mô hình\n",
        "from sklearn.linear_model import LinearRegression\n",
        "LR = LinearRegression()\n",
        "LR.fit(X_train, y_train)"
      ],
      "metadata": {
        "colab": {
          "base_uri": "https://localhost:8080/"
        },
        "id": "PhbgnoSydMy8",
        "outputId": "f3c74468-66f7-4cd5-becf-3ee7bb6ee98a"
      },
      "execution_count": 129,
      "outputs": [
        {
          "output_type": "execute_result",
          "data": {
            "text/plain": [
              "LinearRegression()"
            ]
          },
          "metadata": {},
          "execution_count": 129
        }
      ]
    },
    {
      "cell_type": "code",
      "source": [
        "from sklearn.metrics import mean_squared_error\n",
        "y_pred = LR.predict(X_test)\n",
        "mse = mean_squared_error(y_test, y_pred, squared= False)\n",
        "rmse = np.sqrt(mse)\n",
        "\n",
        "print(mse)\n",
        "print(rmse)"
      ],
      "metadata": {
        "colab": {
          "base_uri": "https://localhost:8080/"
        },
        "id": "VSidIEa4dgUU",
        "outputId": "dbf22330-ce17-41b7-ed82-2bda10e6bbd1"
      },
      "execution_count": 130,
      "outputs": [
        {
          "output_type": "stream",
          "name": "stdout",
          "text": [
            "0.6210985318331903\n",
            "0.7880980470938818\n"
          ]
        }
      ]
    },
    {
      "cell_type": "code",
      "source": [
        "from sklearn.model_selection import cross_val_score\n",
        "\n",
        "scores = cross_val_score(LR, X, y,\n",
        "                             scoring=\"neg_mean_squared_error\", cv=5)\n",
        "rmse_scores = np.sqrt(-scores)\n",
        "\n",
        "print(rmse_scores)"
      ],
      "metadata": {
        "colab": {
          "base_uri": "https://localhost:8080/"
        },
        "id": "wHGsBB2goukb",
        "outputId": "673d57c5-d438-452b-a204-f4d895d2550b"
      },
      "execution_count": 131,
      "outputs": [
        {
          "output_type": "stream",
          "name": "stdout",
          "text": [
            "[67496.60883072 75139.67179381 77471.62927178 73462.25527197\n",
            " 67333.76703057]\n"
          ]
        }
      ]
    },
    {
      "cell_type": "code",
      "source": [
        "y_pred"
      ],
      "metadata": {
        "colab": {
          "base_uri": "https://localhost:8080/"
        },
        "id": "eTeQfvUlow7Z",
        "outputId": "4c521b2b-e4ff-4bdb-df30-091510d36c94"
      },
      "execution_count": 132,
      "outputs": [
        {
          "output_type": "execute_result",
          "data": {
            "text/plain": [
              "array([-1.13005074, -0.3402926 ,  0.5203687 , ...,  2.05667791,\n",
              "       -0.64791805, -0.26069332])"
            ]
          },
          "metadata": {},
          "execution_count": 132
        }
      ]
    },
    {
      "cell_type": "code",
      "source": [
        "pred = pd.DataFrame({\"y\" : y_test, \"y_pred\" : y_pred})\n",
        "pred.head(20)"
      ],
      "metadata": {
        "colab": {
          "base_uri": "https://localhost:8080/",
          "height": 677
        },
        "id": "05ttg0SGoznj",
        "outputId": "83de05df-119e-4912-8a5b-000e8aec3492"
      },
      "execution_count": 133,
      "outputs": [
        {
          "output_type": "execute_result",
          "data": {
            "text/plain": [
              "           y    y_pred\n",
              "0  -1.378493 -1.130051\n",
              "1  -1.395090 -0.340293\n",
              "2   2.572663  0.520369\n",
              "3   0.114435  0.617065\n",
              "4   0.633334  0.640796\n",
              "5  -0.408832 -0.335048\n",
              "6  -0.063773  0.825563\n",
              "7  -0.419315  0.268802\n",
              "8   1.174946  0.558270\n",
              "9   2.106169  1.851000\n",
              "10 -0.718949 -0.627263\n",
              "11  0.422804 -0.231810\n",
              "12  0.083860 -1.414681\n",
              "13  0.131032 -0.456440\n",
              "14  0.124917  0.393364\n",
              "15 -0.605385 -1.466026\n",
              "16 -0.236740  0.685315\n",
              "17 -0.157245  0.329769\n",
              "18 -0.573937  0.325653\n",
              "19 -0.594029 -0.536489"
            ],
            "text/html": [
              "\n",
              "  <div id=\"df-b2976c7d-da1a-41b3-8bc3-63346055fe39\">\n",
              "    <div class=\"colab-df-container\">\n",
              "      <div>\n",
              "<style scoped>\n",
              "    .dataframe tbody tr th:only-of-type {\n",
              "        vertical-align: middle;\n",
              "    }\n",
              "\n",
              "    .dataframe tbody tr th {\n",
              "        vertical-align: top;\n",
              "    }\n",
              "\n",
              "    .dataframe thead th {\n",
              "        text-align: right;\n",
              "    }\n",
              "</style>\n",
              "<table border=\"1\" class=\"dataframe\">\n",
              "  <thead>\n",
              "    <tr style=\"text-align: right;\">\n",
              "      <th></th>\n",
              "      <th>y</th>\n",
              "      <th>y_pred</th>\n",
              "    </tr>\n",
              "  </thead>\n",
              "  <tbody>\n",
              "    <tr>\n",
              "      <th>0</th>\n",
              "      <td>-1.378493</td>\n",
              "      <td>-1.130051</td>\n",
              "    </tr>\n",
              "    <tr>\n",
              "      <th>1</th>\n",
              "      <td>-1.395090</td>\n",
              "      <td>-0.340293</td>\n",
              "    </tr>\n",
              "    <tr>\n",
              "      <th>2</th>\n",
              "      <td>2.572663</td>\n",
              "      <td>0.520369</td>\n",
              "    </tr>\n",
              "    <tr>\n",
              "      <th>3</th>\n",
              "      <td>0.114435</td>\n",
              "      <td>0.617065</td>\n",
              "    </tr>\n",
              "    <tr>\n",
              "      <th>4</th>\n",
              "      <td>0.633334</td>\n",
              "      <td>0.640796</td>\n",
              "    </tr>\n",
              "    <tr>\n",
              "      <th>5</th>\n",
              "      <td>-0.408832</td>\n",
              "      <td>-0.335048</td>\n",
              "    </tr>\n",
              "    <tr>\n",
              "      <th>6</th>\n",
              "      <td>-0.063773</td>\n",
              "      <td>0.825563</td>\n",
              "    </tr>\n",
              "    <tr>\n",
              "      <th>7</th>\n",
              "      <td>-0.419315</td>\n",
              "      <td>0.268802</td>\n",
              "    </tr>\n",
              "    <tr>\n",
              "      <th>8</th>\n",
              "      <td>1.174946</td>\n",
              "      <td>0.558270</td>\n",
              "    </tr>\n",
              "    <tr>\n",
              "      <th>9</th>\n",
              "      <td>2.106169</td>\n",
              "      <td>1.851000</td>\n",
              "    </tr>\n",
              "    <tr>\n",
              "      <th>10</th>\n",
              "      <td>-0.718949</td>\n",
              "      <td>-0.627263</td>\n",
              "    </tr>\n",
              "    <tr>\n",
              "      <th>11</th>\n",
              "      <td>0.422804</td>\n",
              "      <td>-0.231810</td>\n",
              "    </tr>\n",
              "    <tr>\n",
              "      <th>12</th>\n",
              "      <td>0.083860</td>\n",
              "      <td>-1.414681</td>\n",
              "    </tr>\n",
              "    <tr>\n",
              "      <th>13</th>\n",
              "      <td>0.131032</td>\n",
              "      <td>-0.456440</td>\n",
              "    </tr>\n",
              "    <tr>\n",
              "      <th>14</th>\n",
              "      <td>0.124917</td>\n",
              "      <td>0.393364</td>\n",
              "    </tr>\n",
              "    <tr>\n",
              "      <th>15</th>\n",
              "      <td>-0.605385</td>\n",
              "      <td>-1.466026</td>\n",
              "    </tr>\n",
              "    <tr>\n",
              "      <th>16</th>\n",
              "      <td>-0.236740</td>\n",
              "      <td>0.685315</td>\n",
              "    </tr>\n",
              "    <tr>\n",
              "      <th>17</th>\n",
              "      <td>-0.157245</td>\n",
              "      <td>0.329769</td>\n",
              "    </tr>\n",
              "    <tr>\n",
              "      <th>18</th>\n",
              "      <td>-0.573937</td>\n",
              "      <td>0.325653</td>\n",
              "    </tr>\n",
              "    <tr>\n",
              "      <th>19</th>\n",
              "      <td>-0.594029</td>\n",
              "      <td>-0.536489</td>\n",
              "    </tr>\n",
              "  </tbody>\n",
              "</table>\n",
              "</div>\n",
              "      <button class=\"colab-df-convert\" onclick=\"convertToInteractive('df-b2976c7d-da1a-41b3-8bc3-63346055fe39')\"\n",
              "              title=\"Convert this dataframe to an interactive table.\"\n",
              "              style=\"display:none;\">\n",
              "        \n",
              "  <svg xmlns=\"http://www.w3.org/2000/svg\" height=\"24px\"viewBox=\"0 0 24 24\"\n",
              "       width=\"24px\">\n",
              "    <path d=\"M0 0h24v24H0V0z\" fill=\"none\"/>\n",
              "    <path d=\"M18.56 5.44l.94 2.06.94-2.06 2.06-.94-2.06-.94-.94-2.06-.94 2.06-2.06.94zm-11 1L8.5 8.5l.94-2.06 2.06-.94-2.06-.94L8.5 2.5l-.94 2.06-2.06.94zm10 10l.94 2.06.94-2.06 2.06-.94-2.06-.94-.94-2.06-.94 2.06-2.06.94z\"/><path d=\"M17.41 7.96l-1.37-1.37c-.4-.4-.92-.59-1.43-.59-.52 0-1.04.2-1.43.59L10.3 9.45l-7.72 7.72c-.78.78-.78 2.05 0 2.83L4 21.41c.39.39.9.59 1.41.59.51 0 1.02-.2 1.41-.59l7.78-7.78 2.81-2.81c.8-.78.8-2.07 0-2.86zM5.41 20L4 18.59l7.72-7.72 1.47 1.35L5.41 20z\"/>\n",
              "  </svg>\n",
              "      </button>\n",
              "      \n",
              "  <style>\n",
              "    .colab-df-container {\n",
              "      display:flex;\n",
              "      flex-wrap:wrap;\n",
              "      gap: 12px;\n",
              "    }\n",
              "\n",
              "    .colab-df-convert {\n",
              "      background-color: #E8F0FE;\n",
              "      border: none;\n",
              "      border-radius: 50%;\n",
              "      cursor: pointer;\n",
              "      display: none;\n",
              "      fill: #1967D2;\n",
              "      height: 32px;\n",
              "      padding: 0 0 0 0;\n",
              "      width: 32px;\n",
              "    }\n",
              "\n",
              "    .colab-df-convert:hover {\n",
              "      background-color: #E2EBFA;\n",
              "      box-shadow: 0px 1px 2px rgba(60, 64, 67, 0.3), 0px 1px 3px 1px rgba(60, 64, 67, 0.15);\n",
              "      fill: #174EA6;\n",
              "    }\n",
              "\n",
              "    [theme=dark] .colab-df-convert {\n",
              "      background-color: #3B4455;\n",
              "      fill: #D2E3FC;\n",
              "    }\n",
              "\n",
              "    [theme=dark] .colab-df-convert:hover {\n",
              "      background-color: #434B5C;\n",
              "      box-shadow: 0px 1px 3px 1px rgba(0, 0, 0, 0.15);\n",
              "      filter: drop-shadow(0px 1px 2px rgba(0, 0, 0, 0.3));\n",
              "      fill: #FFFFFF;\n",
              "    }\n",
              "  </style>\n",
              "\n",
              "      <script>\n",
              "        const buttonEl =\n",
              "          document.querySelector('#df-b2976c7d-da1a-41b3-8bc3-63346055fe39 button.colab-df-convert');\n",
              "        buttonEl.style.display =\n",
              "          google.colab.kernel.accessAllowed ? 'block' : 'none';\n",
              "\n",
              "        async function convertToInteractive(key) {\n",
              "          const element = document.querySelector('#df-b2976c7d-da1a-41b3-8bc3-63346055fe39');\n",
              "          const dataTable =\n",
              "            await google.colab.kernel.invokeFunction('convertToInteractive',\n",
              "                                                     [key], {});\n",
              "          if (!dataTable) return;\n",
              "\n",
              "          const docLinkHtml = 'Like what you see? Visit the ' +\n",
              "            '<a target=\"_blank\" href=https://colab.research.google.com/notebooks/data_table.ipynb>data table notebook</a>'\n",
              "            + ' to learn more about interactive tables.';\n",
              "          element.innerHTML = '';\n",
              "          dataTable['output_type'] = 'display_data';\n",
              "          await google.colab.output.renderOutput(dataTable, element);\n",
              "          const docLink = document.createElement('div');\n",
              "          docLink.innerHTML = docLinkHtml;\n",
              "          element.appendChild(docLink);\n",
              "        }\n",
              "      </script>\n",
              "    </div>\n",
              "  </div>\n",
              "  "
            ]
          },
          "metadata": {},
          "execution_count": 133
        }
      ]
    },
    {
      "cell_type": "code",
      "source": [
        "from sklearn import metrics\n",
        "print(metrics.r2_score(y_test, y_pred))"
      ],
      "metadata": {
        "colab": {
          "base_uri": "https://localhost:8080/"
        },
        "id": "hPfla-I-o4pD",
        "outputId": "cc39e1a2-4750-4d6b-9721-a675554398c7"
      },
      "execution_count": 134,
      "outputs": [
        {
          "output_type": "stream",
          "name": "stdout",
          "text": [
            "0.6142366137546554\n"
          ]
        }
      ]
    },
    {
      "cell_type": "code",
      "source": [
        "print(X[:, 7:8])\n",
        "print(y_test.shape)\n",
        "data.head(20)"
      ],
      "metadata": {
        "colab": {
          "base_uri": "https://localhost:8080/",
          "height": 879
        },
        "id": "V-M2fzVFo7mp",
        "outputId": "dcd9019d-d102-420d-c90d-92675c070b0d"
      },
      "execution_count": 135,
      "outputs": [
        {
          "output_type": "stream",
          "name": "stdout",
          "text": [
            "[[8.3252]\n",
            " [8.3014]\n",
            " [7.2574]\n",
            " ...\n",
            " [1.7]\n",
            " [1.8672]\n",
            " [2.3886]]\n",
            "(4128,)\n"
          ]
        },
        {
          "output_type": "execute_result",
          "data": {
            "text/plain": [
              "    longitude  latitude  housing_median_age  total_rooms  total_bedrooms  \\\n",
              "0     -122.23     37.88                41.0        880.0           129.0   \n",
              "1     -122.22     37.86                21.0       7099.0          1106.0   \n",
              "2     -122.24     37.85                52.0       1467.0           190.0   \n",
              "3     -122.25     37.85                52.0       1274.0           235.0   \n",
              "4     -122.25     37.85                52.0       1627.0           280.0   \n",
              "5     -122.25     37.85                52.0        919.0           213.0   \n",
              "6     -122.25     37.84                52.0       2535.0           489.0   \n",
              "7     -122.25     37.84                52.0       3104.0           687.0   \n",
              "8     -122.26     37.84                42.0       2555.0           665.0   \n",
              "9     -122.25     37.84                52.0       3549.0           707.0   \n",
              "10    -122.26     37.85                52.0       2202.0           434.0   \n",
              "11    -122.26     37.85                52.0       3503.0           752.0   \n",
              "12    -122.26     37.85                52.0       2491.0           474.0   \n",
              "13    -122.26     37.84                52.0        696.0           191.0   \n",
              "14    -122.26     37.85                52.0       2643.0           626.0   \n",
              "15    -122.26     37.85                50.0       1120.0           283.0   \n",
              "16    -122.27     37.85                52.0       1966.0           347.0   \n",
              "17    -122.27     37.85                52.0       1228.0           293.0   \n",
              "18    -122.26     37.84                50.0       2239.0           455.0   \n",
              "19    -122.27     37.84                52.0       1503.0           298.0   \n",
              "\n",
              "    population  households  median_income  median_house_value ocean_proximity  \n",
              "0        322.0       126.0         8.3252            452600.0        NEAR BAY  \n",
              "1       2401.0      1138.0         8.3014            358500.0        NEAR BAY  \n",
              "2        496.0       177.0         7.2574            352100.0        NEAR BAY  \n",
              "3        558.0       219.0         5.6431            341300.0        NEAR BAY  \n",
              "4        565.0       259.0         3.8462            342200.0        NEAR BAY  \n",
              "5        413.0       193.0         4.0368            269700.0        NEAR BAY  \n",
              "6       1094.0       514.0         3.6591            299200.0        NEAR BAY  \n",
              "7       1157.0       647.0         3.1200            241400.0        NEAR BAY  \n",
              "8       1206.0       595.0         2.0804            226700.0        NEAR BAY  \n",
              "9       1551.0       714.0         3.6912            261100.0        NEAR BAY  \n",
              "10       910.0       402.0         3.2031            281500.0        NEAR BAY  \n",
              "11      1504.0       734.0         3.2705            241800.0        NEAR BAY  \n",
              "12      1098.0       468.0         3.0750            213500.0        NEAR BAY  \n",
              "13       345.0       174.0         2.6736            191300.0        NEAR BAY  \n",
              "14      1212.0       620.0         1.9167            159200.0        NEAR BAY  \n",
              "15       697.0       264.0         2.1250            140000.0        NEAR BAY  \n",
              "16       793.0       331.0         2.7750            152500.0        NEAR BAY  \n",
              "17       648.0       303.0         2.1202            155500.0        NEAR BAY  \n",
              "18       990.0       419.0         1.9911            158700.0        NEAR BAY  \n",
              "19       690.0       275.0         2.6033            162900.0        NEAR BAY  "
            ],
            "text/html": [
              "\n",
              "  <div id=\"df-04e6f4f8-1fc7-4d99-b5c9-34e35a28cabd\">\n",
              "    <div class=\"colab-df-container\">\n",
              "      <div>\n",
              "<style scoped>\n",
              "    .dataframe tbody tr th:only-of-type {\n",
              "        vertical-align: middle;\n",
              "    }\n",
              "\n",
              "    .dataframe tbody tr th {\n",
              "        vertical-align: top;\n",
              "    }\n",
              "\n",
              "    .dataframe thead th {\n",
              "        text-align: right;\n",
              "    }\n",
              "</style>\n",
              "<table border=\"1\" class=\"dataframe\">\n",
              "  <thead>\n",
              "    <tr style=\"text-align: right;\">\n",
              "      <th></th>\n",
              "      <th>longitude</th>\n",
              "      <th>latitude</th>\n",
              "      <th>housing_median_age</th>\n",
              "      <th>total_rooms</th>\n",
              "      <th>total_bedrooms</th>\n",
              "      <th>population</th>\n",
              "      <th>households</th>\n",
              "      <th>median_income</th>\n",
              "      <th>median_house_value</th>\n",
              "      <th>ocean_proximity</th>\n",
              "    </tr>\n",
              "  </thead>\n",
              "  <tbody>\n",
              "    <tr>\n",
              "      <th>0</th>\n",
              "      <td>-122.23</td>\n",
              "      <td>37.88</td>\n",
              "      <td>41.0</td>\n",
              "      <td>880.0</td>\n",
              "      <td>129.0</td>\n",
              "      <td>322.0</td>\n",
              "      <td>126.0</td>\n",
              "      <td>8.3252</td>\n",
              "      <td>452600.0</td>\n",
              "      <td>NEAR BAY</td>\n",
              "    </tr>\n",
              "    <tr>\n",
              "      <th>1</th>\n",
              "      <td>-122.22</td>\n",
              "      <td>37.86</td>\n",
              "      <td>21.0</td>\n",
              "      <td>7099.0</td>\n",
              "      <td>1106.0</td>\n",
              "      <td>2401.0</td>\n",
              "      <td>1138.0</td>\n",
              "      <td>8.3014</td>\n",
              "      <td>358500.0</td>\n",
              "      <td>NEAR BAY</td>\n",
              "    </tr>\n",
              "    <tr>\n",
              "      <th>2</th>\n",
              "      <td>-122.24</td>\n",
              "      <td>37.85</td>\n",
              "      <td>52.0</td>\n",
              "      <td>1467.0</td>\n",
              "      <td>190.0</td>\n",
              "      <td>496.0</td>\n",
              "      <td>177.0</td>\n",
              "      <td>7.2574</td>\n",
              "      <td>352100.0</td>\n",
              "      <td>NEAR BAY</td>\n",
              "    </tr>\n",
              "    <tr>\n",
              "      <th>3</th>\n",
              "      <td>-122.25</td>\n",
              "      <td>37.85</td>\n",
              "      <td>52.0</td>\n",
              "      <td>1274.0</td>\n",
              "      <td>235.0</td>\n",
              "      <td>558.0</td>\n",
              "      <td>219.0</td>\n",
              "      <td>5.6431</td>\n",
              "      <td>341300.0</td>\n",
              "      <td>NEAR BAY</td>\n",
              "    </tr>\n",
              "    <tr>\n",
              "      <th>4</th>\n",
              "      <td>-122.25</td>\n",
              "      <td>37.85</td>\n",
              "      <td>52.0</td>\n",
              "      <td>1627.0</td>\n",
              "      <td>280.0</td>\n",
              "      <td>565.0</td>\n",
              "      <td>259.0</td>\n",
              "      <td>3.8462</td>\n",
              "      <td>342200.0</td>\n",
              "      <td>NEAR BAY</td>\n",
              "    </tr>\n",
              "    <tr>\n",
              "      <th>5</th>\n",
              "      <td>-122.25</td>\n",
              "      <td>37.85</td>\n",
              "      <td>52.0</td>\n",
              "      <td>919.0</td>\n",
              "      <td>213.0</td>\n",
              "      <td>413.0</td>\n",
              "      <td>193.0</td>\n",
              "      <td>4.0368</td>\n",
              "      <td>269700.0</td>\n",
              "      <td>NEAR BAY</td>\n",
              "    </tr>\n",
              "    <tr>\n",
              "      <th>6</th>\n",
              "      <td>-122.25</td>\n",
              "      <td>37.84</td>\n",
              "      <td>52.0</td>\n",
              "      <td>2535.0</td>\n",
              "      <td>489.0</td>\n",
              "      <td>1094.0</td>\n",
              "      <td>514.0</td>\n",
              "      <td>3.6591</td>\n",
              "      <td>299200.0</td>\n",
              "      <td>NEAR BAY</td>\n",
              "    </tr>\n",
              "    <tr>\n",
              "      <th>7</th>\n",
              "      <td>-122.25</td>\n",
              "      <td>37.84</td>\n",
              "      <td>52.0</td>\n",
              "      <td>3104.0</td>\n",
              "      <td>687.0</td>\n",
              "      <td>1157.0</td>\n",
              "      <td>647.0</td>\n",
              "      <td>3.1200</td>\n",
              "      <td>241400.0</td>\n",
              "      <td>NEAR BAY</td>\n",
              "    </tr>\n",
              "    <tr>\n",
              "      <th>8</th>\n",
              "      <td>-122.26</td>\n",
              "      <td>37.84</td>\n",
              "      <td>42.0</td>\n",
              "      <td>2555.0</td>\n",
              "      <td>665.0</td>\n",
              "      <td>1206.0</td>\n",
              "      <td>595.0</td>\n",
              "      <td>2.0804</td>\n",
              "      <td>226700.0</td>\n",
              "      <td>NEAR BAY</td>\n",
              "    </tr>\n",
              "    <tr>\n",
              "      <th>9</th>\n",
              "      <td>-122.25</td>\n",
              "      <td>37.84</td>\n",
              "      <td>52.0</td>\n",
              "      <td>3549.0</td>\n",
              "      <td>707.0</td>\n",
              "      <td>1551.0</td>\n",
              "      <td>714.0</td>\n",
              "      <td>3.6912</td>\n",
              "      <td>261100.0</td>\n",
              "      <td>NEAR BAY</td>\n",
              "    </tr>\n",
              "    <tr>\n",
              "      <th>10</th>\n",
              "      <td>-122.26</td>\n",
              "      <td>37.85</td>\n",
              "      <td>52.0</td>\n",
              "      <td>2202.0</td>\n",
              "      <td>434.0</td>\n",
              "      <td>910.0</td>\n",
              "      <td>402.0</td>\n",
              "      <td>3.2031</td>\n",
              "      <td>281500.0</td>\n",
              "      <td>NEAR BAY</td>\n",
              "    </tr>\n",
              "    <tr>\n",
              "      <th>11</th>\n",
              "      <td>-122.26</td>\n",
              "      <td>37.85</td>\n",
              "      <td>52.0</td>\n",
              "      <td>3503.0</td>\n",
              "      <td>752.0</td>\n",
              "      <td>1504.0</td>\n",
              "      <td>734.0</td>\n",
              "      <td>3.2705</td>\n",
              "      <td>241800.0</td>\n",
              "      <td>NEAR BAY</td>\n",
              "    </tr>\n",
              "    <tr>\n",
              "      <th>12</th>\n",
              "      <td>-122.26</td>\n",
              "      <td>37.85</td>\n",
              "      <td>52.0</td>\n",
              "      <td>2491.0</td>\n",
              "      <td>474.0</td>\n",
              "      <td>1098.0</td>\n",
              "      <td>468.0</td>\n",
              "      <td>3.0750</td>\n",
              "      <td>213500.0</td>\n",
              "      <td>NEAR BAY</td>\n",
              "    </tr>\n",
              "    <tr>\n",
              "      <th>13</th>\n",
              "      <td>-122.26</td>\n",
              "      <td>37.84</td>\n",
              "      <td>52.0</td>\n",
              "      <td>696.0</td>\n",
              "      <td>191.0</td>\n",
              "      <td>345.0</td>\n",
              "      <td>174.0</td>\n",
              "      <td>2.6736</td>\n",
              "      <td>191300.0</td>\n",
              "      <td>NEAR BAY</td>\n",
              "    </tr>\n",
              "    <tr>\n",
              "      <th>14</th>\n",
              "      <td>-122.26</td>\n",
              "      <td>37.85</td>\n",
              "      <td>52.0</td>\n",
              "      <td>2643.0</td>\n",
              "      <td>626.0</td>\n",
              "      <td>1212.0</td>\n",
              "      <td>620.0</td>\n",
              "      <td>1.9167</td>\n",
              "      <td>159200.0</td>\n",
              "      <td>NEAR BAY</td>\n",
              "    </tr>\n",
              "    <tr>\n",
              "      <th>15</th>\n",
              "      <td>-122.26</td>\n",
              "      <td>37.85</td>\n",
              "      <td>50.0</td>\n",
              "      <td>1120.0</td>\n",
              "      <td>283.0</td>\n",
              "      <td>697.0</td>\n",
              "      <td>264.0</td>\n",
              "      <td>2.1250</td>\n",
              "      <td>140000.0</td>\n",
              "      <td>NEAR BAY</td>\n",
              "    </tr>\n",
              "    <tr>\n",
              "      <th>16</th>\n",
              "      <td>-122.27</td>\n",
              "      <td>37.85</td>\n",
              "      <td>52.0</td>\n",
              "      <td>1966.0</td>\n",
              "      <td>347.0</td>\n",
              "      <td>793.0</td>\n",
              "      <td>331.0</td>\n",
              "      <td>2.7750</td>\n",
              "      <td>152500.0</td>\n",
              "      <td>NEAR BAY</td>\n",
              "    </tr>\n",
              "    <tr>\n",
              "      <th>17</th>\n",
              "      <td>-122.27</td>\n",
              "      <td>37.85</td>\n",
              "      <td>52.0</td>\n",
              "      <td>1228.0</td>\n",
              "      <td>293.0</td>\n",
              "      <td>648.0</td>\n",
              "      <td>303.0</td>\n",
              "      <td>2.1202</td>\n",
              "      <td>155500.0</td>\n",
              "      <td>NEAR BAY</td>\n",
              "    </tr>\n",
              "    <tr>\n",
              "      <th>18</th>\n",
              "      <td>-122.26</td>\n",
              "      <td>37.84</td>\n",
              "      <td>50.0</td>\n",
              "      <td>2239.0</td>\n",
              "      <td>455.0</td>\n",
              "      <td>990.0</td>\n",
              "      <td>419.0</td>\n",
              "      <td>1.9911</td>\n",
              "      <td>158700.0</td>\n",
              "      <td>NEAR BAY</td>\n",
              "    </tr>\n",
              "    <tr>\n",
              "      <th>19</th>\n",
              "      <td>-122.27</td>\n",
              "      <td>37.84</td>\n",
              "      <td>52.0</td>\n",
              "      <td>1503.0</td>\n",
              "      <td>298.0</td>\n",
              "      <td>690.0</td>\n",
              "      <td>275.0</td>\n",
              "      <td>2.6033</td>\n",
              "      <td>162900.0</td>\n",
              "      <td>NEAR BAY</td>\n",
              "    </tr>\n",
              "  </tbody>\n",
              "</table>\n",
              "</div>\n",
              "      <button class=\"colab-df-convert\" onclick=\"convertToInteractive('df-04e6f4f8-1fc7-4d99-b5c9-34e35a28cabd')\"\n",
              "              title=\"Convert this dataframe to an interactive table.\"\n",
              "              style=\"display:none;\">\n",
              "        \n",
              "  <svg xmlns=\"http://www.w3.org/2000/svg\" height=\"24px\"viewBox=\"0 0 24 24\"\n",
              "       width=\"24px\">\n",
              "    <path d=\"M0 0h24v24H0V0z\" fill=\"none\"/>\n",
              "    <path d=\"M18.56 5.44l.94 2.06.94-2.06 2.06-.94-2.06-.94-.94-2.06-.94 2.06-2.06.94zm-11 1L8.5 8.5l.94-2.06 2.06-.94-2.06-.94L8.5 2.5l-.94 2.06-2.06.94zm10 10l.94 2.06.94-2.06 2.06-.94-2.06-.94-.94-2.06-.94 2.06-2.06.94z\"/><path d=\"M17.41 7.96l-1.37-1.37c-.4-.4-.92-.59-1.43-.59-.52 0-1.04.2-1.43.59L10.3 9.45l-7.72 7.72c-.78.78-.78 2.05 0 2.83L4 21.41c.39.39.9.59 1.41.59.51 0 1.02-.2 1.41-.59l7.78-7.78 2.81-2.81c.8-.78.8-2.07 0-2.86zM5.41 20L4 18.59l7.72-7.72 1.47 1.35L5.41 20z\"/>\n",
              "  </svg>\n",
              "      </button>\n",
              "      \n",
              "  <style>\n",
              "    .colab-df-container {\n",
              "      display:flex;\n",
              "      flex-wrap:wrap;\n",
              "      gap: 12px;\n",
              "    }\n",
              "\n",
              "    .colab-df-convert {\n",
              "      background-color: #E8F0FE;\n",
              "      border: none;\n",
              "      border-radius: 50%;\n",
              "      cursor: pointer;\n",
              "      display: none;\n",
              "      fill: #1967D2;\n",
              "      height: 32px;\n",
              "      padding: 0 0 0 0;\n",
              "      width: 32px;\n",
              "    }\n",
              "\n",
              "    .colab-df-convert:hover {\n",
              "      background-color: #E2EBFA;\n",
              "      box-shadow: 0px 1px 2px rgba(60, 64, 67, 0.3), 0px 1px 3px 1px rgba(60, 64, 67, 0.15);\n",
              "      fill: #174EA6;\n",
              "    }\n",
              "\n",
              "    [theme=dark] .colab-df-convert {\n",
              "      background-color: #3B4455;\n",
              "      fill: #D2E3FC;\n",
              "    }\n",
              "\n",
              "    [theme=dark] .colab-df-convert:hover {\n",
              "      background-color: #434B5C;\n",
              "      box-shadow: 0px 1px 3px 1px rgba(0, 0, 0, 0.15);\n",
              "      filter: drop-shadow(0px 1px 2px rgba(0, 0, 0, 0.3));\n",
              "      fill: #FFFFFF;\n",
              "    }\n",
              "  </style>\n",
              "\n",
              "      <script>\n",
              "        const buttonEl =\n",
              "          document.querySelector('#df-04e6f4f8-1fc7-4d99-b5c9-34e35a28cabd button.colab-df-convert');\n",
              "        buttonEl.style.display =\n",
              "          google.colab.kernel.accessAllowed ? 'block' : 'none';\n",
              "\n",
              "        async function convertToInteractive(key) {\n",
              "          const element = document.querySelector('#df-04e6f4f8-1fc7-4d99-b5c9-34e35a28cabd');\n",
              "          const dataTable =\n",
              "            await google.colab.kernel.invokeFunction('convertToInteractive',\n",
              "                                                     [key], {});\n",
              "          if (!dataTable) return;\n",
              "\n",
              "          const docLinkHtml = 'Like what you see? Visit the ' +\n",
              "            '<a target=\"_blank\" href=https://colab.research.google.com/notebooks/data_table.ipynb>data table notebook</a>'\n",
              "            + ' to learn more about interactive tables.';\n",
              "          element.innerHTML = '';\n",
              "          dataTable['output_type'] = 'display_data';\n",
              "          await google.colab.output.renderOutput(dataTable, element);\n",
              "          const docLink = document.createElement('div');\n",
              "          docLink.innerHTML = docLinkHtml;\n",
              "          element.appendChild(docLink);\n",
              "        }\n",
              "      </script>\n",
              "    </div>\n",
              "  </div>\n",
              "  "
            ]
          },
          "metadata": {},
          "execution_count": 135
        }
      ]
    },
    {
      "cell_type": "code",
      "source": [
        "import seaborn as sns\n",
        "test_true = pd.DataFrame({'median_income': X_test[:, 7:8].reshape(-1), 'median_house_value': y_test})\n",
        "test_pred = pd.DataFrame({'median_income': X_test[:, 7:8].reshape(-1), 'median_house_value': y_pred})\n",
        "fig= plt.figure(figsize=(8,8))\n",
        "sns.lineplot(data=test_pred, x=\"median_income\", y=\"median_house_value\", color='red')\n",
        "sns.scatterplot(data=test_true, x=\"median_income\", y=\"median_house_value\")"
      ],
      "metadata": {
        "colab": {
          "base_uri": "https://localhost:8080/",
          "height": 515
        },
        "id": "Z4XcfbQMpAFe",
        "outputId": "e4a0528d-f65d-45d4-da1d-baeb02784ad4"
      },
      "execution_count": 136,
      "outputs": [
        {
          "output_type": "execute_result",
          "data": {
            "text/plain": [
              "<matplotlib.axes._subplots.AxesSubplot at 0x7fc3547df5d0>"
            ]
          },
          "metadata": {},
          "execution_count": 136
        },
        {
          "output_type": "display_data",
          "data": {
            "text/plain": [
              "<Figure size 576x576 with 1 Axes>"
            ],
            "image/png": "[encoded data removed]"
          },
          "metadata": {
            "needs_background": "light"
          }
        }
      ]
    },
    {
      "cell_type": "markdown",
      "source": [
        "# **4. Cross validation**"
      ],
      "metadata": {
        "id": "xje8f1zKpINF"
      }
    },
    {
      "cell_type": "markdown",
      "source": [
        "# **Câu hỏi 8: Thực hiện lại mô hình Hồi quy tuyến tính bằng phương pháp cross - valiation. Cho biết kết quả cuối cùng theo độ đo MSE**"
      ],
      "metadata": {
        "id": "S7vhgzRkpU0K"
      }
    },
    {
      "cell_type": "code",
      "source": [
        "from sklearn.model_selection import ShuffleSplit\n",
        "from sklearn.linear_model import LinearRegression\n",
        "from sklearn.metrics import mean_squared_error\n",
        "from sklearn.preprocessing import StandardScaler\n",
        "import numpy as np\n",
        "sc = StandardScaler()\n",
        "kf = ShuffleSplit(n_splits=10, test_size=0.2, random_state=42)\n",
        "avg_mse = []\n",
        "for train_index, test_index in kf.split(X, y):\n",
        "    X_train_temp = X[train_index]\n",
        "    y_train_temp = y[train_index]\n",
        "    X_test_temp = X[test_index]\n",
        "    y_test_temp = y[test_index]\n",
        "    model = LinearRegression()\n",
        "    \n",
        "    X_train_temp = sc.fit_transform(X_train_temp)\n",
        "    X_test_temp = sc.fit_transform(X_test_temp)\n",
        "    y_train_temp = sc.fit_transform(y_train_temp.reshape(-1, 1))\n",
        "    y_test_temp = sc.fit_transform(y_test_temp.reshape(-1, 1))\n",
        "\n",
        "    model.fit(X_train_temp, y_train_temp)\n",
        "    y_pred = model.predict(X_test_temp)\n",
        "    result = mean_squared_error(y_test_temp, y_pred, squared=True)\n",
        "    # Lưu lại kết quả từng fold vào avg_mse\n",
        "    avg_mse.append(result)"
      ],
      "metadata": {
        "id": "Ce5_1N77pY3c"
      },
      "execution_count": 137,
      "outputs": []
    },
    {
      "cell_type": "code",
      "source": [
        "import numpy as np\n",
        "np.mean(np.array(avg_mse))"
      ],
      "metadata": {
        "colab": {
          "base_uri": "https://localhost:8080/"
        },
        "id": "JB4tTdfOpg5B",
        "outputId": "7524e175-954c-4ea8-936a-5cdfbe8884f0"
      },
      "execution_count": 138,
      "outputs": [
        {
          "output_type": "execute_result",
          "data": {
            "text/plain": [
              "0.369865807924257"
            ]
          },
          "metadata": {},
          "execution_count": 138
        }
      ]
    },
    {
      "cell_type": "markdown",
      "source": [
        "# **Bài 2: Thực hiện dự đoán giá nhà dựa vào thuộc tính total_bedrooms**"
      ],
      "metadata": {
        "id": "yCpMcxLqpzUz"
      }
    },
    {
      "cell_type": "code",
      "source": [
        "X_bedroom = data[\"total_bedrooms\"].values\n",
        "y_bedroom = y\n",
        "y_bedroom_pd = pd.DataFrame({\"median_house_value\" : y_bedroom})\n",
        "X_bedroom_pd = pd.DataFrame({\"total_bedrooms\" : X_bedroom})\n",
        "X_bedroom = X_bedroom.reshape(-1, 1)"
      ],
      "metadata": {
        "id": "dLsVzX5eqd2E"
      },
      "execution_count": 139,
      "outputs": []
    },
    {
      "cell_type": "code",
      "source": [
        "#Điền giá trị thiếu bằng mean\n",
        "from sklearn.impute import SimpleImputer\n",
        "\n",
        "imputer = SimpleImputer(missing_values= np.nan, strategy='mean')\n",
        "imputer.fit(X_bedroom)\n",
        "X_bedroom = imputer.transform(X_bedroom)\n"
      ],
      "metadata": {
        "id": "e-O-Lu30sfWD"
      },
      "execution_count": 140,
      "outputs": []
    },
    {
      "cell_type": "code",
      "source": [
        "X_bedroom_pd = pd.DataFrame({\"total_bedrooms\" : [X_bedroom]})"
      ],
      "metadata": {
        "id": "6a0ZMgb_sm-A"
      },
      "execution_count": 141,
      "outputs": []
    },
    {
      "cell_type": "code",
      "source": [
        "from sklearn.model_selection import train_test_split\n",
        "X_bedroom_train, X_bedroom_test, y_bedroom_train, y_bedroom_test = train_test_split(X_bedroom, y_bedroom.reshape(-1, 1), test_size = 0.2)"
      ],
      "metadata": {
        "id": "OSRwyXrEssj5"
      },
      "execution_count": 142,
      "outputs": []
    },
    {
      "cell_type": "code",
      "source": [
        "#Chuan hoa du lieu\n",
        "from sklearn.preprocessing import StandardScaler\n",
        "sc = StandardScaler()\n",
        "X_bedroom_train = sc.fit_transform(X_bedroom_train)\n",
        "X_bedroom_test = sc.fit_transform(X_bedroom_test)\n",
        "y_bedroom_train = sc.fit_transform(y_bedroom_train)\n",
        "y_bedroom_test = sc.fit_transform(y_bedroom_test)"
      ],
      "metadata": {
        "id": "a6L5JsL6s0Y9"
      },
      "execution_count": 143,
      "outputs": []
    },
    {
      "cell_type": "code",
      "source": [
        "#Train model\n",
        "from sklearn.linear_model import LinearRegression\n",
        "LR = LinearRegression()\n",
        "LR.fit(X_bedroom_train, y_bedroom_train)"
      ],
      "metadata": {
        "colab": {
          "base_uri": "https://localhost:8080/"
        },
        "id": "DgLl4_hOs6eR",
        "outputId": "598b6ca7-6fbe-44a1-ca27-9f91ec800949"
      },
      "execution_count": 144,
      "outputs": [
        {
          "output_type": "execute_result",
          "data": {
            "text/plain": [
              "LinearRegression()"
            ]
          },
          "metadata": {},
          "execution_count": 144
        }
      ]
    },
    {
      "cell_type": "code",
      "source": [
        "from sklearn.metrics import mean_squared_error\n",
        "y_bedroom_pred = LR.predict(X_bedroom_test)\n",
        "mse = mean_squared_error(y_bedroom_test, y_bedroom_pred)\n",
        "rmse = np.sqrt(mse)\n",
        "print(rmse)"
      ],
      "metadata": {
        "colab": {
          "base_uri": "https://localhost:8080/"
        },
        "id": "ZagI5YVUs-NM",
        "outputId": "df4f323d-7c91-4a94-8dcb-412097fc304e"
      },
      "execution_count": 145,
      "outputs": [
        {
          "output_type": "stream",
          "name": "stdout",
          "text": [
            "0.998644297369953\n"
          ]
        }
      ]
    },
    {
      "cell_type": "code",
      "source": [
        "plt.scatter(y_bedroom_test, y_bedroom_pred)"
      ],
      "metadata": {
        "colab": {
          "base_uri": "https://localhost:8080/",
          "height": 286
        },
        "id": "uNnNh3r8tCJ5",
        "outputId": "9160488e-2d06-4e6b-86a6-91d69b500735"
      },
      "execution_count": 146,
      "outputs": [
        {
          "output_type": "execute_result",
          "data": {
            "text/plain": [
              "<matplotlib.collections.PathCollection at 0x7fc3541fbb10>"
            ]
          },
          "metadata": {},
          "execution_count": 146
        },
        {
          "output_type": "display_data",
          "data": {
            "text/plain": [
              "<Figure size 432x288 with 1 Axes>"
            ],
            "image/png": "[encoded data removed]"
          },
          "metadata": {
            "needs_background": "light"
          }
        }
      ]
    },
    {
      "cell_type": "code",
      "source": [
        "from sklearn import metrics\n",
        "100*metrics.r2_score(y_bedroom_test, y_bedroom_pred)"
      ],
      "metadata": {
        "colab": {
          "base_uri": "https://localhost:8080/"
        },
        "id": "sEJZWoN8tEEh",
        "outputId": "bdbcaa39-26f0-48d2-e7e1-edcbb8b203a8"
      },
      "execution_count": 147,
      "outputs": [
        {
          "output_type": "execute_result",
          "data": {
            "text/plain": [
              "0.2709567330472895"
            ]
          },
          "metadata": {},
          "execution_count": 147
        }
      ]
    },
    {
      "cell_type": "code",
      "source": [
        "from sklearn.model_selection import ShuffleSplit\n",
        "from sklearn.linear_model import LinearRegression\n",
        "from sklearn.metrics import mean_squared_error\n",
        "from sklearn.preprocessing import StandardScaler\n",
        "import numpy as np\n",
        "sc = StandardScaler()\n",
        "kf = ShuffleSplit(n_splits=5, test_size=0.2, random_state=42)\n",
        "avg_mse = []\n",
        "for train_index, test_index in kf.split(X, y):\n",
        "    X_train_temp = X_bedroom[train_index]\n",
        "    y_train_temp = y_bedroom[train_index]\n",
        "    X_test_temp = X_bedroom[test_index]\n",
        "    y_test_temp = y_bedroom[test_index]\n",
        "    model = LinearRegression()\n",
        "    \n",
        "    X_train_temp = sc.fit_transform(X_train_temp)\n",
        "    X_test_temp = sc.fit_transform(X_test_temp)\n",
        "    y_train_temp = sc.fit_transform(y_train_temp.reshape(-1, 1))\n",
        "    y_test_temp = sc.fit_transform(y_test_temp.reshape(-1, 1))\n",
        "    model.fit(X_train_temp.reshape(-1, 1), y_train_temp.reshape(-1, 1))\n",
        "    y_pred = model.predict(X_test_temp.reshape(-1, 1))\n",
        "    result = mean_squared_error(y_test_temp, y_pred, squared=True)\n",
        "    # Lưu lại kết quả từng fold vào avg_mse\n",
        "    avg_mse.append(result)\n",
        "\n",
        "np.mean(np.array(avg_mse))"
      ],
      "metadata": {
        "colab": {
          "base_uri": "https://localhost:8080/"
        },
        "id": "Fmts6bjdtJWT",
        "outputId": "e957fcfe-dd12-4bca-85a5-75589d00cd23"
      },
      "execution_count": 148,
      "outputs": [
        {
          "output_type": "execute_result",
          "data": {
            "text/plain": [
              "0.9977595945248886"
            ]
          },
          "metadata": {},
          "execution_count": 148
        }
      ]
    }
  ]
}